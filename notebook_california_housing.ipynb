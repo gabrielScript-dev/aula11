{
 "cells": [
  {
   "cell_type": "markdown",
   "id": "b55eed5e",
   "metadata": {},
   "source": [
    "# Cenário da análise\n",
    "\n",
    "## Objetivo da análise\n",
    "\n",
    "- Prever o valor médio de casas na Califórnia (MedHouseVal) a partir de várias características das casas e da região.\n",
    "\n",
    "- Tipo de problema: regressão supervisionada (prever valor numérico).\n",
    "\n",
    "- Objetivo final: entender como as features influenciam o preço das casas e fazer previsões confiáveis para novos dados.\n",
    "\n",
    "## Dados utilizados\n",
    "\n",
    "- O dataset California Housing contém informações sobre bairros da Califórnia, coletadas a partir do censo de 1990.\n",
    "As principais features (variáveis independentes) são:\n",
    "\n",
    "    | Feature     | Descrição                          |\n",
    "    |------------|-----------------------------------|\n",
    "    | MedInc     | Renda média da população do bairro |\n",
    "    | HouseAge   | Idade média das casas              |\n",
    "    | AveRooms   | Média de quartos por residência    |\n",
    "    | AveBedrms  | Média de quartos de dormir por residência |\n",
    "    | Population | População do bairro                |\n",
    "    | AveOccup   | Média de ocupação por residência  |\n",
    "    | Latitude   | Latitude do bairro                 |\n",
    "    | Longitude  | Longitude do bairro                |\n",
    "\n",
    "\n",
    "- Target (variável dependente): MedHouseVal — valor médio das casas no bairro, em centenas de milhares de dólares."
   ]
  },
  {
   "cell_type": "markdown",
   "id": "809b2c66",
   "metadata": {},
   "source": [
    "## 1️⃣ Carregar dataset"
   ]
  },
  {
   "cell_type": "code",
   "execution_count": null,
   "id": "bd17e725",
   "metadata": {
    "vscode": {
     "languageId": "plaintext"
    }
   },
   "outputs": [],
   "source": []
  },
  {
   "cell_type": "markdown",
   "id": "e087c1e1",
   "metadata": {},
   "source": [
    "## 2️⃣ Dividir treino e teste"
   ]
  },
  {
   "cell_type": "code",
   "execution_count": null,
   "id": "7052818a",
   "metadata": {
    "vscode": {
     "languageId": "plaintext"
    }
   },
   "outputs": [],
   "source": []
  },
  {
   "cell_type": "code",
   "execution_count": null,
   "id": "84a6d632",
   "metadata": {
    "vscode": {
     "languageId": "plaintext"
    }
   },
   "outputs": [],
   "source": []
  },
  {
   "cell_type": "markdown",
   "id": "7ed9244a",
   "metadata": {},
   "source": [
    "## 3️⃣ Escalonar dados"
   ]
  },
  {
   "cell_type": "code",
   "execution_count": null,
   "id": "ebaec305",
   "metadata": {
    "vscode": {
     "languageId": "plaintext"
    }
   },
   "outputs": [],
   "source": []
  },
  {
   "cell_type": "markdown",
   "id": "39b2e9f6",
   "metadata": {},
   "source": [
    "## 4️⃣ Treinar modelo"
   ]
  },
  {
   "cell_type": "code",
   "execution_count": null,
   "id": "626b3eb3",
   "metadata": {
    "vscode": {
     "languageId": "plaintext"
    }
   },
   "outputs": [],
   "source": []
  },
  {
   "cell_type": "markdown",
   "id": "145e345e",
   "metadata": {},
   "source": [
    "## 5️⃣ Previsões e probabilidades"
   ]
  },
  {
   "cell_type": "code",
   "execution_count": null,
   "id": "4d04e683",
   "metadata": {
    "vscode": {
     "languageId": "plaintext"
    }
   },
   "outputs": [],
   "source": []
  },
  {
   "cell_type": "markdown",
   "id": "1be9a0c5",
   "metadata": {},
   "source": [
    "## 7️⃣ Avaliação no teste"
   ]
  },
  {
   "cell_type": "code",
   "execution_count": null,
   "id": "145509b5",
   "metadata": {
    "vscode": {
     "languageId": "plaintext"
    }
   },
   "outputs": [],
   "source": []
  },
  {
   "cell_type": "markdown",
   "id": "1dd32cab",
   "metadata": {},
   "source": [
    "## 6️⃣ Criar DataFrame de resultados"
   ]
  },
  {
   "cell_type": "code",
   "execution_count": null,
   "id": "e9995bad",
   "metadata": {
    "vscode": {
     "languageId": "plaintext"
    }
   },
   "outputs": [],
   "source": []
  },
  {
   "cell_type": "markdown",
   "id": "0fd6951d",
   "metadata": {},
   "source": [
    "## 8️⃣ Cross-validation"
   ]
  },
  {
   "cell_type": "code",
   "execution_count": null,
   "id": "97480b29",
   "metadata": {
    "vscode": {
     "languageId": "plaintext"
    }
   },
   "outputs": [],
   "source": []
  },
  {
   "cell_type": "markdown",
   "id": "066c6d68",
   "metadata": {},
   "source": [
    "## 9️⃣ Visualização de dados"
   ]
  },
  {
   "cell_type": "code",
   "execution_count": null,
   "id": "22f74902",
   "metadata": {
    "vscode": {
     "languageId": "plaintext"
    }
   },
   "outputs": [],
   "source": []
  }
 ],
 "metadata": {
  "language_info": {
   "name": "python"
  }
 },
 "nbformat": 4,
 "nbformat_minor": 5
}
