{
 "cells": [
  {
   "cell_type": "markdown",
   "id": "32e72f3c",
   "metadata": {},
   "source": [
    "# Cross Validation\n",
    "\n",
    "* Durante a criação de modelos de aprendizado de máquina, é comum ter dúvidas sobre sua performance e capacidade de generalização. O Cross Validation é uma técnica que pode ajudar a responder essas questões.\n",
    "\n",
    "* Normalmente, os dados são divididos aleatoriamente em treino e teste (como 70/30) para avaliar o modelo. Porém, isso pode não ser suficiente, e o Cross Validation surge como uma alternativa mais confiável para essa avaliação."
   ]
  },
  {
   "cell_type": "markdown",
   "id": "04192b5b",
   "metadata": {},
   "source": [
    "# O que é Cross Validation?\n",
    "\n",
    "* O Cross Validation (CV) é uma técnica comum para avaliar a performance de modelos de aprendizado de máquina. Ela envolve dividir os dados em partes, onde uma parte é usada para treinar o modelo e a outra para testar e avaliar seu desempenho. \n",
    "\n",
    "* O uso do CV é eficaz para identificar se o modelo está sofrendo de overfitting. Isso acontece quando o modelo se ajusta excessivamente aos dados de treinamento, capturando até mesmo o \"ruído\" ou padrões irrelevantes, o que prejudica sua capacidade de generalizar para novos dados. Existem diferentes métodos de CV, e este artigo foca no K-fold, um dos mais populares.\n",
    "\n",
    "<center><img src=\"https://docs.aws.amazon.com/pt_br/machine-learning/latest/dg/images/mlconcepts_image5.png\"></center>"
   ]
  },
  {
   "cell_type": "markdown",
   "id": "28a40f87",
   "metadata": {},
   "source": [
    "# K-fold\n",
    "\n",
    "* O método K-fold divide aleatoriamente os dados em K subconjuntos de tamanho semelhante. Em cada iteração, K-1 subconjuntos são usados para treinar o modelo, e o subconjunto restante é utilizado para testar o modelo, gerando uma métrica de avaliação (como a acurácia). Esse processo garante que todos os subconjuntos sejam utilizados para teste ao longo das iterações, oferecendo uma avaliação mais robusta do modelo.\n",
    "\n",
    "<center><img src=\"https://miro.medium.com/v2/resize:fit:720/format:webp/1*kkMtezwv8qj1t9uG4nw_8g.png\"></center>"
   ]
  },
  {
   "cell_type": "markdown",
   "id": "9211ab95",
   "metadata": {},
   "source": [
    "* Considerando um cenário de 5-fold cross validation, os dados são divididos em 5 partes. Na primeira iteração, a primeira parte é usada para teste, e as outras 4 para treino. Esse processo se repete para cada parte dos dados: na segunda iteração, a segunda parte é testada, e as outras são usadas para treino. Esse ciclo continua até que todas as 5 partes passem pelo processo de treino e teste, gerando uma média das métricas de avaliação do modelo."
   ]
  },
  {
   "cell_type": "markdown",
   "id": "b6a1c08c",
   "metadata": {},
   "source": [
    "# O que \"K\" representa na validação cruzada K-Fold?\n",
    "\n",
    "* Em K-Fold, o \"K\" representa o número de partes em que os dados são divididos. Esse número determina quantas vezes o modelo será testado, garantindo que cada segmento seja usado como conjunto de teste uma vez.\n",
    "\n",
    "* Aqui está uma heurística:\n",
    "\n",
    "    1. K = 2 ou 3: Ideal quando os recursos computacionais são limitados ou quando é necessário uma avaliação rápida, pois economizam tempo e poder computacional, enquanto ainda oferecem uma estimativa razoável de desempenho.\n",
    "\n",
    "    2. K = 5 ou 10: São valores populares, pois oferecem um bom equilíbrio entre eficiência computacional e estimativa de desempenho do modelo.\n",
    "\n",
    "    3. K = 20: Proporciona uma avaliação mais detalhada, mas aumenta a carga computacional e pode gerar maior variância se os subconjuntos forem muito pequenos.\n"
   ]
  }
 ],
 "metadata": {
  "language_info": {
   "name": "python"
  }
 },
 "nbformat": 4,
 "nbformat_minor": 5
}
