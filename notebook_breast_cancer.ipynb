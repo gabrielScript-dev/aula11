{
 "cells": [
  {
   "cell_type": "markdown",
   "id": "b55eed5e",
   "metadata": {},
   "source": [
    "# Cenário da análise\n",
    "\n",
    "## Objetivo da análise\n",
    "\n",
    "- Prever se um tumor de mama é benigno (1) ou maligno (0) usando o dataset breast_cancer do scikit-learn.\n",
    "\n",
    "- Tipo de problema: classificação supervisionada.\n",
    "\n",
    "- Objetivo final: criar um modelo que ajude médicos ou sistemas de triagem a prever a malignidade de tumores com base em características médicas.\n",
    "\n",
    "## Dados utilizados\n",
    "\n",
    "- O dataset Breast Cancer Wisconsin contém características de tumores extraídas de imagens de exames de mama. As principais features (variáveis independentes) incluem:\n",
    "\n",
    "    | Feature         | Descrição                                |\n",
    "    |-----------------|-----------------------------------------|\n",
    "    | radius_mean     | Média do raio do tumor                   |\n",
    "    | texture_mean    | Média da textura                         |\n",
    "    | perimeter_mean  | Média do perímetro                        |\n",
    "    | area_mean       | Média da área                             |\n",
    "    | smoothness_mean | Média da suavidade                        |\n",
    "    | ...             | (total de 30 features de medidas físicas e estatísticas do tumor) |\n",
    "\n",
    "- Target (variável dependente): alvo\n",
    "\n",
    "    - 0 = maligno\n",
    "    - 1 = benigno"
   ]
  },
  {
   "cell_type": "markdown",
   "id": "809b2c66",
   "metadata": {},
   "source": [
    "## 1️⃣ Carregar dataset"
   ]
  },
  {
   "cell_type": "code",
   "execution_count": null,
   "id": "468416ee",
   "metadata": {
    "vscode": {
     "languageId": "plaintext"
    }
   },
   "outputs": [],
   "source": []
  },
  {
   "cell_type": "markdown",
   "id": "e087c1e1",
   "metadata": {},
   "source": [
    "## 2️⃣ Dividir treino e teste"
   ]
  },
  {
   "cell_type": "code",
   "execution_count": null,
   "id": "d6e866e4",
   "metadata": {
    "vscode": {
     "languageId": "plaintext"
    }
   },
   "outputs": [],
   "source": []
  },
  {
   "cell_type": "markdown",
   "id": "7ed9244a",
   "metadata": {},
   "source": [
    "## 3️⃣ Escalonar dados"
   ]
  },
  {
   "cell_type": "code",
   "execution_count": null,
   "id": "1019446d",
   "metadata": {
    "vscode": {
     "languageId": "plaintext"
    }
   },
   "outputs": [],
   "source": []
  },
  {
   "cell_type": "markdown",
   "id": "39b2e9f6",
   "metadata": {},
   "source": [
    "## 4️⃣ Treinar modelo"
   ]
  },
  {
   "cell_type": "code",
   "execution_count": null,
   "id": "dec4ce54",
   "metadata": {
    "vscode": {
     "languageId": "plaintext"
    }
   },
   "outputs": [],
   "source": []
  },
  {
   "cell_type": "markdown",
   "id": "145e345e",
   "metadata": {},
   "source": [
    "## 5️⃣ Previsões e probabilidades"
   ]
  },
  {
   "cell_type": "code",
   "execution_count": null,
   "id": "6d8f6fdf",
   "metadata": {
    "vscode": {
     "languageId": "plaintext"
    }
   },
   "outputs": [],
   "source": []
  },
  {
   "cell_type": "markdown",
   "id": "1be9a0c5",
   "metadata": {},
   "source": [
    "## 7️⃣ Avaliação no teste"
   ]
  },
  {
   "cell_type": "code",
   "execution_count": null,
   "id": "2b96ceca",
   "metadata": {
    "vscode": {
     "languageId": "plaintext"
    }
   },
   "outputs": [],
   "source": []
  },
  {
   "cell_type": "markdown",
   "id": "1dd32cab",
   "metadata": {},
   "source": [
    "## 6️⃣ Criar DataFrame de resultados"
   ]
  },
  {
   "cell_type": "code",
   "execution_count": null,
   "id": "5b7512da",
   "metadata": {
    "vscode": {
     "languageId": "plaintext"
    }
   },
   "outputs": [],
   "source": []
  },
  {
   "cell_type": "markdown",
   "id": "0fd6951d",
   "metadata": {},
   "source": [
    "## 8️⃣ Cross-validation"
   ]
  },
  {
   "cell_type": "code",
   "execution_count": null,
   "id": "50a9dadc",
   "metadata": {
    "vscode": {
     "languageId": "plaintext"
    }
   },
   "outputs": [],
   "source": []
  },
  {
   "cell_type": "markdown",
   "id": "066c6d68",
   "metadata": {},
   "source": [
    "## 9️⃣ Visualização de dados"
   ]
  },
  {
   "cell_type": "code",
   "execution_count": null,
   "id": "b60fce4a",
   "metadata": {
    "vscode": {
     "languageId": "plaintext"
    }
   },
   "outputs": [],
   "source": []
  }
 ],
 "metadata": {
  "language_info": {
   "name": "python"
  }
 },
 "nbformat": 4,
 "nbformat_minor": 5
}
